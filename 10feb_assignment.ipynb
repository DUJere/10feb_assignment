{
 "cells": [
  {
   "cell_type": "markdown",
   "id": "ae561bf9-cd83-4272-9891-3e2a0a7e976e",
   "metadata": {},
   "source": [
    "Q1. Which function is used to open a file? What are the different modes of opening a file? Explain each mode\n",
    "of file opening."
   ]
  },
  {
   "cell_type": "markdown",
   "id": "8cb42649-85dc-4755-bd36-4ba6d42b99e1",
   "metadata": {},
   "source": [
    "Answer :The key function for working with files in Python is the open() function.\n",
    "\n",
    "The open() function takes two parameters; filename, and mode.\n",
    "\n",
    "There are four different methods (modes) for opening a file:\n",
    "    \n",
    "    \"r\" - Read - Default value. Opens a file for reading, error if the file does not exist\n",
    "\n",
    "    \"a\" - Append - Opens a file for appending, creates the file if it does not exist\n",
    "\n",
    "    \"w\" - Write - Opens a file for writing, creates the file if it does not exist\n",
    "\n"
   ]
  },
  {
   "cell_type": "markdown",
   "id": "d2d5e309-d88b-46d1-8e0f-044714913367",
   "metadata": {},
   "source": [
    "Q2. Why close() function is used? Why is it important to close a file?"
   ]
  },
  {
   "cell_type": "markdown",
   "id": "e4b1ef1a-d708-47e0-bd2b-7c84f04124b8",
   "metadata": {},
   "source": [
    "Answer : The close() method closes an open file. You should always close your files, in some cases, due to buffering, changes made to a file may not show until you close the file."
   ]
  },
  {
   "cell_type": "markdown",
   "id": "d8be5866-75cb-4eea-9b4e-168167f20d90",
   "metadata": {},
   "source": [
    "Q3. Write a python program to create a text file. Write ‘I want to become a Data Scientist’ in that file. Then\n",
    "close the file. Open this file and read the content of the file. "
   ]
  },
  {
   "cell_type": "code",
   "execution_count": 1,
   "id": "b59cb95d-c9b9-4795-b853-8c9009cf6916",
   "metadata": {},
   "outputs": [],
   "source": [
    "f = open(\"read.text\",\"w\")"
   ]
  },
  {
   "cell_type": "code",
   "execution_count": 2,
   "id": "6bad1f86-f57a-4dd7-bfdd-47b84e6a599d",
   "metadata": {},
   "outputs": [
    {
     "data": {
      "text/plain": [
       "'/home/jovyan/work'"
      ]
     },
     "execution_count": 2,
     "metadata": {},
     "output_type": "execute_result"
    }
   ],
   "source": [
    "pwd"
   ]
  },
  {
   "cell_type": "code",
   "execution_count": 3,
   "id": "5813324c-d3d9-411f-9924-a5032cceb222",
   "metadata": {},
   "outputs": [
    {
     "data": {
      "text/plain": [
       "33"
      ]
     },
     "execution_count": 3,
     "metadata": {},
     "output_type": "execute_result"
    }
   ],
   "source": [
    "f.write(\"I want to become a Data Scientist\")"
   ]
  },
  {
   "cell_type": "code",
   "execution_count": 4,
   "id": "b2b86477-9723-4751-a9d2-7037be86d6d9",
   "metadata": {},
   "outputs": [],
   "source": [
    "f.close()"
   ]
  },
  {
   "cell_type": "code",
   "execution_count": 6,
   "id": "fd1c8534-1123-411b-be68-036e9163c3dc",
   "metadata": {},
   "outputs": [],
   "source": [
    "data = open(\"read.text\",\"r\")"
   ]
  },
  {
   "cell_type": "code",
   "execution_count": 7,
   "id": "a4193c72-eeb3-4235-8cd7-738b848953b4",
   "metadata": {},
   "outputs": [
    {
     "data": {
      "text/plain": [
       "'I want to become a Data Scientist'"
      ]
     },
     "execution_count": 7,
     "metadata": {},
     "output_type": "execute_result"
    }
   ],
   "source": [
    "data.read()"
   ]
  },
  {
   "cell_type": "code",
   "execution_count": 12,
   "id": "328b6247-670e-4398-b8d4-ecccb74c2686",
   "metadata": {},
   "outputs": [],
   "source": [
    "data.close()"
   ]
  },
  {
   "cell_type": "markdown",
   "id": "11d58c25-4043-4282-94f5-55befc566cb4",
   "metadata": {},
   "source": [
    "Q4. Explain the following with python code: read(), readline() and readlines()."
   ]
  },
  {
   "cell_type": "markdown",
   "id": "f26048c1-492a-4f33-9b3f-b8c9fb2419c0",
   "metadata": {},
   "source": [
    "\"r\" - Read - Default value. Opens a file for reading, error if the file does not exist"
   ]
  },
  {
   "cell_type": "code",
   "execution_count": 10,
   "id": "83789f57-2120-4688-976b-d5d8852245b2",
   "metadata": {},
   "outputs": [
    {
     "data": {
      "text/plain": [
       "'I want to become a Data Scientist'"
      ]
     },
     "execution_count": 10,
     "metadata": {},
     "output_type": "execute_result"
    }
   ],
   "source": [
    "##example of read\n",
    "data.seek(0)\n",
    "data.read()"
   ]
  },
  {
   "cell_type": "markdown",
   "id": "8a1ec5cd-e5d7-4e40-b971-92016a269d13",
   "metadata": {},
   "source": [
    "Readline ( ): Reads a line of the file and returns in the form of a string."
   ]
  },
  {
   "cell_type": "code",
   "execution_count": 15,
   "id": "49f3c26b-4f96-4059-8565-76ce4460ac2a",
   "metadata": {},
   "outputs": [],
   "source": [
    "f = open(\"read.text\",\"a\")"
   ]
  },
  {
   "cell_type": "code",
   "execution_count": 17,
   "id": "036af89d-a11e-4fec-9e31-f366cd62ccf0",
   "metadata": {},
   "outputs": [
    {
     "data": {
      "text/plain": [
       "21"
      ]
     },
     "execution_count": 17,
     "metadata": {},
     "output_type": "execute_result"
    }
   ],
   "source": [
    "f.write(\"I will study for this\")"
   ]
  },
  {
   "cell_type": "code",
   "execution_count": 18,
   "id": "150fc3e0-9b6a-40f1-b081-5b6ba30c2ea8",
   "metadata": {},
   "outputs": [],
   "source": [
    "f.close()"
   ]
  },
  {
   "cell_type": "code",
   "execution_count": 19,
   "id": "303ba3de-1ffb-49be-b595-1e4a4a809895",
   "metadata": {},
   "outputs": [],
   "source": [
    "data = open(\"read.text\",\"r\")"
   ]
  },
  {
   "cell_type": "code",
   "execution_count": 20,
   "id": "0fe084b0-3061-47a5-805e-232b060d4511",
   "metadata": {},
   "outputs": [
    {
     "data": {
      "text/plain": [
       "'I will study for this'"
      ]
     },
     "execution_count": 20,
     "metadata": {},
     "output_type": "execute_result"
    }
   ],
   "source": [
    "data.readline()"
   ]
  },
  {
   "cell_type": "code",
   "execution_count": 21,
   "id": "ca5772e7-8ea0-441d-9b13-d456fd6970ac",
   "metadata": {},
   "outputs": [],
   "source": [
    "data.close()"
   ]
  },
  {
   "cell_type": "markdown",
   "id": "b3140d53-d3f1-46bd-90ed-c383bc0fde60",
   "metadata": {},
   "source": [
    "Q5. Explain why with statement is used with open(). What is the advantage of using with statement and\n",
    "open() together?"
   ]
  },
  {
   "cell_type": "markdown",
   "id": "727b9cde-9a56-45e7-b4b3-bd510305fb1b",
   "metadata": {},
   "source": [
    "Answer : The with statement works with the open() function to open a file."
   ]
  },
  {
   "cell_type": "markdown",
   "id": "80cd76df-fd84-4b01-91f1-7b6f43a77e14",
   "metadata": {},
   "source": [
    "Q6. Explain the write() and writelines() functions. Give a suitable example."
   ]
  },
  {
   "cell_type": "markdown",
   "id": "141fd1a5-8195-4e0a-b3db-1b426c094ee1",
   "metadata": {},
   "source": [
    "Answer : Write() method displays the output but do not provide a new line character.\n",
    "\n",
    "WriteLine() method displays the output and also provides a new line character it the end of the string, This would set a new line for the next output."
   ]
  },
  {
   "cell_type": "code",
   "execution_count": null,
   "id": "d00feba0-3bce-455a-ab33-15e2e7819e24",
   "metadata": {},
   "outputs": [],
   "source": []
  }
 ],
 "metadata": {
  "kernelspec": {
   "display_name": "Python 3 (ipykernel)",
   "language": "python",
   "name": "python3"
  },
  "language_info": {
   "codemirror_mode": {
    "name": "ipython",
    "version": 3
   },
   "file_extension": ".py",
   "mimetype": "text/x-python",
   "name": "python",
   "nbconvert_exporter": "python",
   "pygments_lexer": "ipython3",
   "version": "3.10.8"
  }
 },
 "nbformat": 4,
 "nbformat_minor": 5
}
